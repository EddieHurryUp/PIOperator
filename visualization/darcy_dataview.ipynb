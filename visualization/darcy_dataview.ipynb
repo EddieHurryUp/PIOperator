{
 "cells": [
  {
   "cell_type": "code",
   "execution_count": null,
   "id": "initial_id",
   "metadata": {
    "collapsed": true
   },
   "outputs": [],
   "source": [
    "import numpy as np\n",
    "from matplotlib import pyplot as plt\n",
    "from scipy.io import loadmat\n",
    "import h5py"
   ]
  },
  {
   "metadata": {},
   "cell_type": "code",
   "outputs": [],
   "execution_count": null,
   "source": [
    "# view the ns equation and print some useful information\n",
    "file_path = 'E:\\dfno\\PIOperator\\data\\darcy\\Darcy_241\\piececonst_r241_N1024_smooth1.mat'\n",
    "file = loadmat(file_path)\n",
    "print(list(file.keys()))"
   ],
   "id": "22366f9f7ae1ca41"
  },
  {
   "metadata": {},
   "cell_type": "code",
   "outputs": [],
   "execution_count": null,
   "source": [
    "key_turple = ('Kcoeff', 'Kcoeff_x', 'Kcoeff_y', 'coeff', 'sol')\n",
    "for key in key_turple:\n",
    "    print(f'{key} shape:{np.array(file[key]).shape}')"
   ],
   "id": "7e04165c5e23249b"
  },
  {
   "metadata": {},
   "cell_type": "markdown",
   "source": "code for viewing",
   "id": "30fdb7c9ffb52b86"
  },
  {
   "metadata": {},
   "cell_type": "code",
   "outputs": [],
   "execution_count": null,
   "source": [
    "# begin record the value from the file\n",
    "sol = np.array(file['sol'])  # shape:(1024, 241, 241) the vorticity at time:1 to time:50\n",
    "Kcoeff = np.array(file['Kcoeff'])  # shape:(1024, 241, 241) the vorticity at time:0\n",
    "\n",
    "fig, ax = plt.subplots(1, 5, figsize=(50, 10))\n",
    "for i in range(5):\n",
    "    ax[i].imshow(np.array(file[key_turple[i]])[0, :, :,], cmap='seismic')\n",
    "\n",
    "plt.show()"
   ],
   "id": "216624bc168704eb"
  }
 ],
 "metadata": {
  "kernelspec": {
   "display_name": "Python 3",
   "language": "python",
   "name": "python3"
  },
  "language_info": {
   "codemirror_mode": {
    "name": "ipython",
    "version": 2
   },
   "file_extension": ".py",
   "mimetype": "text/x-python",
   "name": "python",
   "nbconvert_exporter": "python",
   "pygments_lexer": "ipython2",
   "version": "2.7.6"
  }
 },
 "nbformat": 4,
 "nbformat_minor": 5
}
