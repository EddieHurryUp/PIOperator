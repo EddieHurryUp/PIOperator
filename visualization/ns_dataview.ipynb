{
 "cells": [
  {
   "cell_type": "code",
   "execution_count": null,
   "id": "initial_id",
   "metadata": {
    "collapsed": true
   },
   "outputs": [],
   "source": [
    "import numpy as np\n",
    "from matplotlib import pyplot as plt\n",
    "import h5py\n"
   ]
  },
  {
   "metadata": {},
   "cell_type": "code",
   "outputs": [],
   "execution_count": null,
   "source": [
    "# view the ns equation and print some useful information\n",
    "file_path = 'E:\\\\dfno\\\\PIOperator\\\\data\\\\ns\\\\ns_V1e-3_N5000_T50.mat'\n",
    "with h5py.File(file_path, 'r') as file:\n",
    "    # list the keys in the top file\n",
    "    print(list(file.keys()))\n",
    "    for key in {'a', 'u', 't'}:\n",
    "        print(f'{key} shape:{np.array(file[key]).shape}')\n",
    "\n",
    "    # begin record the value from the file\n",
    "    u = np.array(file['u'])  # shape:(50, 64, 64, 5000) the vorticity at time:1 to time:50\n",
    "    a = np.array(file['a'])  # shape:(64, 64, 5000) the vorticity at time:0\n",
    "    t = np.array(file['t'])  # shape:(50, 1) 1->50\n",
    "\n",
    "    fig, ax = plt.subplots(1, 2, figsize=(10, 10))\n",
    "    cax1 = ax[0].imshow(u[0, :, :, 0], cmap='viridis')\n",
    "    cax2 = ax[1].imshow(u[19, :, :, 0], cmap='viridis')\n",
    "\n",
    "    plt.show()"
   ],
   "id": "c7a51e5b269bccff"
  }
 ],
 "metadata": {
  "kernelspec": {
   "display_name": "Python 3",
   "language": "python",
   "name": "python3"
  },
  "language_info": {
   "codemirror_mode": {
    "name": "ipython",
    "version": 2
   },
   "file_extension": ".py",
   "mimetype": "text/x-python",
   "name": "python",
   "nbconvert_exporter": "python",
   "pygments_lexer": "ipython2",
   "version": "2.7.6"
  }
 },
 "nbformat": 4,
 "nbformat_minor": 5
}
